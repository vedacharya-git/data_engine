{
 "cells": [
  {
   "cell_type": "markdown",
   "metadata": {},
   "source": [
    "# Data Preprocessors"
   ]
  },
  {
   "cell_type": "markdown",
   "metadata": {},
   "source": [
    "## Loading Data"
   ]
  },
  {
   "cell_type": "code",
   "execution_count": 1,
   "metadata": {},
   "outputs": [],
   "source": [
    "import os\n",
    "import pandas as pd"
   ]
  },
  {
   "cell_type": "code",
   "execution_count": 2,
   "metadata": {},
   "outputs": [],
   "source": [
    "# Loading data in pandas dataframe\n",
    "current_directory = os.path.abspath(os.getcwd())\n",
    "parent_directory = os.path.join(current_directory, '..')\n",
    "grandparent_directory = os.path.join(parent_directory, '..')\n",
    "data_directory = os.path.join(grandparent_directory, 'data')\n",
    "csv_path = os.path.join(data_directory, 'healthcare_dataset.csv')\n",
    "\n",
    "df = pd.read_csv(csv_path)"
   ]
  },
  {
   "cell_type": "code",
   "execution_count": 3,
   "metadata": {},
   "outputs": [
    {
     "data": {
      "text/html": [
       "<div>\n",
       "<style scoped>\n",
       "    .dataframe tbody tr th:only-of-type {\n",
       "        vertical-align: middle;\n",
       "    }\n",
       "\n",
       "    .dataframe tbody tr th {\n",
       "        vertical-align: top;\n",
       "    }\n",
       "\n",
       "    .dataframe thead th {\n",
       "        text-align: right;\n",
       "    }\n",
       "</style>\n",
       "<table border=\"1\" class=\"dataframe\">\n",
       "  <thead>\n",
       "    <tr style=\"text-align: right;\">\n",
       "      <th></th>\n",
       "      <th>0</th>\n",
       "      <th>1</th>\n",
       "      <th>2</th>\n",
       "      <th>3</th>\n",
       "      <th>4</th>\n",
       "    </tr>\n",
       "  </thead>\n",
       "  <tbody>\n",
       "    <tr>\n",
       "      <th>Name</th>\n",
       "      <td>Tiffany Ramirez</td>\n",
       "      <td>Ruben Burns</td>\n",
       "      <td>Chad Byrd</td>\n",
       "      <td>Antonio Frederick</td>\n",
       "      <td>Mrs. Brandy Flowers</td>\n",
       "    </tr>\n",
       "    <tr>\n",
       "      <th>Age</th>\n",
       "      <td>81</td>\n",
       "      <td>35</td>\n",
       "      <td>61</td>\n",
       "      <td>49</td>\n",
       "      <td>51</td>\n",
       "    </tr>\n",
       "    <tr>\n",
       "      <th>Gender</th>\n",
       "      <td>Female</td>\n",
       "      <td>Male</td>\n",
       "      <td>Male</td>\n",
       "      <td>Male</td>\n",
       "      <td>Male</td>\n",
       "    </tr>\n",
       "    <tr>\n",
       "      <th>Blood Type</th>\n",
       "      <td>O-</td>\n",
       "      <td>O+</td>\n",
       "      <td>B-</td>\n",
       "      <td>B-</td>\n",
       "      <td>O-</td>\n",
       "    </tr>\n",
       "    <tr>\n",
       "      <th>Medical Condition</th>\n",
       "      <td>Diabetes</td>\n",
       "      <td>Asthma</td>\n",
       "      <td>Obesity</td>\n",
       "      <td>Asthma</td>\n",
       "      <td>Arthritis</td>\n",
       "    </tr>\n",
       "    <tr>\n",
       "      <th>Date of Admission</th>\n",
       "      <td>2022-11-17</td>\n",
       "      <td>2023-06-01</td>\n",
       "      <td>2019-01-09</td>\n",
       "      <td>2020-05-02</td>\n",
       "      <td>2021-07-09</td>\n",
       "    </tr>\n",
       "    <tr>\n",
       "      <th>Doctor</th>\n",
       "      <td>Patrick Parker</td>\n",
       "      <td>Diane Jackson</td>\n",
       "      <td>Paul Baker</td>\n",
       "      <td>Brian Chandler</td>\n",
       "      <td>Dustin Griffin</td>\n",
       "    </tr>\n",
       "    <tr>\n",
       "      <th>Hospital</th>\n",
       "      <td>Wallace-Hamilton</td>\n",
       "      <td>Burke, Griffin and Cooper</td>\n",
       "      <td>Walton LLC</td>\n",
       "      <td>Garcia Ltd</td>\n",
       "      <td>Jones, Brown and Murray</td>\n",
       "    </tr>\n",
       "    <tr>\n",
       "      <th>Insurance Provider</th>\n",
       "      <td>Medicare</td>\n",
       "      <td>UnitedHealthcare</td>\n",
       "      <td>Medicare</td>\n",
       "      <td>Medicare</td>\n",
       "      <td>UnitedHealthcare</td>\n",
       "    </tr>\n",
       "    <tr>\n",
       "      <th>Billing Amount</th>\n",
       "      <td>37490.983364</td>\n",
       "      <td>47304.064845</td>\n",
       "      <td>36874.896997</td>\n",
       "      <td>23303.322092</td>\n",
       "      <td>18086.344184</td>\n",
       "    </tr>\n",
       "    <tr>\n",
       "      <th>Room Number</th>\n",
       "      <td>146</td>\n",
       "      <td>404</td>\n",
       "      <td>292</td>\n",
       "      <td>480</td>\n",
       "      <td>477</td>\n",
       "    </tr>\n",
       "    <tr>\n",
       "      <th>Admission Type</th>\n",
       "      <td>Elective</td>\n",
       "      <td>Emergency</td>\n",
       "      <td>Emergency</td>\n",
       "      <td>Urgent</td>\n",
       "      <td>Urgent</td>\n",
       "    </tr>\n",
       "    <tr>\n",
       "      <th>Discharge Date</th>\n",
       "      <td>2022-12-01</td>\n",
       "      <td>2023-06-15</td>\n",
       "      <td>2019-02-08</td>\n",
       "      <td>2020-05-03</td>\n",
       "      <td>2021-08-02</td>\n",
       "    </tr>\n",
       "    <tr>\n",
       "      <th>Medication</th>\n",
       "      <td>Aspirin</td>\n",
       "      <td>Lipitor</td>\n",
       "      <td>Lipitor</td>\n",
       "      <td>Penicillin</td>\n",
       "      <td>Paracetamol</td>\n",
       "    </tr>\n",
       "    <tr>\n",
       "      <th>Test Results</th>\n",
       "      <td>Inconclusive</td>\n",
       "      <td>Normal</td>\n",
       "      <td>Normal</td>\n",
       "      <td>Abnormal</td>\n",
       "      <td>Normal</td>\n",
       "    </tr>\n",
       "  </tbody>\n",
       "</table>\n",
       "</div>"
      ],
      "text/plain": [
       "                                   0                          1             2  \\\n",
       "Name                 Tiffany Ramirez                Ruben Burns     Chad Byrd   \n",
       "Age                               81                         35            61   \n",
       "Gender                        Female                       Male          Male   \n",
       "Blood Type                        O-                         O+            B-   \n",
       "Medical Condition           Diabetes                     Asthma       Obesity   \n",
       "Date of Admission         2022-11-17                 2023-06-01    2019-01-09   \n",
       "Doctor                Patrick Parker              Diane Jackson    Paul Baker   \n",
       "Hospital            Wallace-Hamilton  Burke, Griffin and Cooper    Walton LLC   \n",
       "Insurance Provider          Medicare           UnitedHealthcare      Medicare   \n",
       "Billing Amount          37490.983364               47304.064845  36874.896997   \n",
       "Room Number                      146                        404           292   \n",
       "Admission Type              Elective                  Emergency     Emergency   \n",
       "Discharge Date            2022-12-01                 2023-06-15    2019-02-08   \n",
       "Medication                   Aspirin                    Lipitor       Lipitor   \n",
       "Test Results            Inconclusive                     Normal        Normal   \n",
       "\n",
       "                                    3                        4  \n",
       "Name                Antonio Frederick      Mrs. Brandy Flowers  \n",
       "Age                                49                       51  \n",
       "Gender                           Male                     Male  \n",
       "Blood Type                         B-                       O-  \n",
       "Medical Condition              Asthma                Arthritis  \n",
       "Date of Admission          2020-05-02               2021-07-09  \n",
       "Doctor                 Brian Chandler           Dustin Griffin  \n",
       "Hospital                   Garcia Ltd  Jones, Brown and Murray  \n",
       "Insurance Provider           Medicare         UnitedHealthcare  \n",
       "Billing Amount           23303.322092             18086.344184  \n",
       "Room Number                       480                      477  \n",
       "Admission Type                 Urgent                   Urgent  \n",
       "Discharge Date             2020-05-03               2021-08-02  \n",
       "Medication                 Penicillin              Paracetamol  \n",
       "Test Results                 Abnormal                   Normal  "
      ]
     },
     "execution_count": 3,
     "metadata": {},
     "output_type": "execute_result"
    }
   ],
   "source": [
    "df.head().T"
   ]
  },
  {
   "cell_type": "code",
   "execution_count": 9,
   "metadata": {},
   "outputs": [
    {
     "data": {
      "text/plain": [
       "Index(['Name', 'Age', 'Gender', 'Blood Type', 'Medical Condition',\n",
       "       'Date of Admission', 'Doctor', 'Hospital', 'Insurance Provider',\n",
       "       'Billing Amount', 'Room Number', 'Admission Type', 'Discharge Date',\n",
       "       'Medication', 'Test Results'],\n",
       "      dtype='object')"
      ]
     },
     "execution_count": 9,
     "metadata": {},
     "output_type": "execute_result"
    }
   ],
   "source": [
    "df.columns"
   ]
  },
  {
   "cell_type": "markdown",
   "metadata": {},
   "source": [
    "## Classifying Data"
   ]
  },
  {
   "cell_type": "code",
   "execution_count": 16,
   "metadata": {},
   "outputs": [],
   "source": [
    "_DTYPES = {\n",
    "    'i':'numerical',\n",
    "    'f':'numerical',\n",
    "    'o':'object',\n",
    "    'b':'boolean',\n",
    "    'M':'datetime'\n",
    "}"
   ]
  },
  {
   "cell_type": "code",
   "execution_count": 41,
   "metadata": {},
   "outputs": [
    {
     "data": {
      "text/plain": [
       "{'Name': 'object',\n",
       " 'Age': 'numerical',\n",
       " 'Gender': 'object',\n",
       " 'Blood Type': 'object',\n",
       " 'Medical Condition': 'object',\n",
       " 'Date of Admission': 'datetime',\n",
       " 'Doctor': 'object',\n",
       " 'Hospital': 'object',\n",
       " 'Insurance Provider': 'object',\n",
       " 'Billing Amount': 'numerical',\n",
       " 'Room Number': 'numerical',\n",
       " 'Admission Type': 'object',\n",
       " 'Discharge Date': 'datetime',\n",
       " 'Medication': 'object',\n",
       " 'Test Results': 'object'}"
      ]
     },
     "execution_count": 41,
     "metadata": {},
     "output_type": "execute_result"
    }
   ],
   "source": [
    "Col_DTYPE = {}\n",
    "\n",
    "for i in df.columns:\n",
    "    if i.__contains__('date') or i.__contains__('Date'):\n",
    "        Col_DTYPE[i] = 'datetime'\n",
    "    else:\n",
    "        Col_DTYPE[i] = _DTYPES[str(df[i].dtype)[0]]\n",
    "\n",
    "Col_DTYPE"
   ]
  },
  {
   "cell_type": "code",
   "execution_count": null,
   "metadata": {},
   "outputs": [],
   "source": []
  }
 ],
 "metadata": {
  "kernelspec": {
   "display_name": "da",
   "language": "python",
   "name": "python3"
  },
  "language_info": {
   "codemirror_mode": {
    "name": "ipython",
    "version": 3
   },
   "file_extension": ".py",
   "mimetype": "text/x-python",
   "name": "python",
   "nbconvert_exporter": "python",
   "pygments_lexer": "ipython3",
   "version": "3.10.14"
  }
 },
 "nbformat": 4,
 "nbformat_minor": 2
}
